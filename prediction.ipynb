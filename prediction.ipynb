{
 "cells": [
  {
   "cell_type": "code",
   "execution_count": 1,
   "metadata": {},
   "outputs": [],
   "source": [
    "import pickle\n",
    "import cv2"
   ]
  },
  {
   "cell_type": "code",
   "execution_count": 2,
   "metadata": {},
   "outputs": [
    {
     "name": "stderr",
     "output_type": "stream",
     "text": [
      "Using TensorFlow backend.\n"
     ]
    }
   ],
   "source": [
    "import keras\n",
    "\n",
    "model = keras.models.load_model('pnemonia_prediction.model')"
   ]
  },
  {
   "cell_type": "code",
   "execution_count": 10,
   "metadata": {},
   "outputs": [],
   "source": [
    "CLASS = ['NORMAL','PNEUMONIA']\n",
    "\n",
    "def predict_img(url):\n",
    "    \n",
    "    arr = cv2.imread(url)\n",
    "    arr = cv2.resize(arr, (100, 100))\n",
    "    arr = arr.reshape(-1, 100, 100, 3)\n",
    "    arr = arr/255\n",
    "    \n",
    "    prediction = model.predict([arr])\n",
    "    print(prediction)\n",
    "    print(CLASS[prediction.argmax()])"
   ]
  },
  {
   "cell_type": "code",
   "execution_count": 11,
   "metadata": {},
   "outputs": [
    {
     "name": "stdout",
     "output_type": "stream",
     "text": [
      "[[0.76415485 0.10707491]]\n",
      "NORMAL\n"
     ]
    }
   ],
   "source": [
    "predict_img(r'C:\\Users\\balajiam\\Documents\\ML Data Analysis\\Pneumonia Prediction\\chest_xray\\chest_xray\\test\\NORMAL\\IM-0001-0001.jpeg')"
   ]
  },
  {
   "cell_type": "code",
   "execution_count": 12,
   "metadata": {},
   "outputs": [
    {
     "name": "stdout",
     "output_type": "stream",
     "text": [
      "[[0.00489636 0.9957194 ]]\n",
      "PNEUMONIA\n"
     ]
    }
   ],
   "source": [
    "predict_img(r'C:\\Users\\balajiam\\Documents\\ML Data Analysis\\Pneumonia Prediction\\chest_xray\\chest_xray\\test\\PNEUMONIA\\person17_virus_48.jpeg')"
   ]
  }
 ],
 "metadata": {
  "kernelspec": {
   "display_name": "Python 3",
   "language": "python",
   "name": "python3"
  },
  "language_info": {
   "codemirror_mode": {
    "name": "ipython",
    "version": 3
   },
   "file_extension": ".py",
   "mimetype": "text/x-python",
   "name": "python",
   "nbconvert_exporter": "python",
   "pygments_lexer": "ipython3",
   "version": "3.7.4"
  }
 },
 "nbformat": 4,
 "nbformat_minor": 4
}
